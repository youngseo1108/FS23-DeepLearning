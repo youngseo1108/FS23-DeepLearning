{
  "cells": [
    {
      "attachments": {},
      "cell_type": "markdown",
      "metadata": {
        "id": "9DKZj8jK_Dry"
      },
      "source": [
        "# Assignment 4: Multi-Output Networks and Batch Processing\n",
        "\n",
        "\n",
        "The goal of this exercise is to get to know some regularization techniques when implementing deep learning methods.\n",
        "For this purpose, we select a dataset that contains data in different formats, some binary ($x_d \\in \\{-1,1\\}$) and some numerical ($x_d\\in \\mathbb N$); and some are categorical, which we ignore for now.\n",
        "As target values, this dataset contains three numerical outputs, so, $\\vec t \\in \\mathbb R^3$ for each sample.\n",
        "These target values should be approximated with a two-layer multi-output network that we will train with the $\\mathcal J^{L_2}$ loss.\n",
        "\n",
        "\n",
        "\n",
        "Remember to make use of `numpy` in the matrix calculation, e.g. `numpy.dot`, `numpy.exp`, `numpy.mean` \n"
      ]
    },
    {
      "attachments": {},
      "cell_type": "markdown",
      "metadata": {
        "id": "5lrQLreklXtS"
      },
      "source": [
        "## Dataset\n",
        "\n",
        "The dataset of our choice is the Student Performance estimation dataset that was collected in Portugal in two different schools and with two different subjects, i.e., math and Portuguese (the mother tongue).\n",
        "The dataset contains many different inputs such as a binary representation of the school, gender, family sizes, and alike, as well as numerical representations of age, travel time, and alcohol consumption.\n",
        "The dataset also includes some categorical data, which we skip in this assignment.\n",
        "See https://archive.ics.uci.edu/ml/datasets/Student+Performance for more information on the dataset.\n",
        "As a start, we will rely on the Portuguese performance (`\"por\"`), but you can also try to use the Math samples (`\"mat\"`)."
      ]
    },
    {
      "attachments": {},
      "cell_type": "markdown",
      "metadata": {
        "id": "HSol7VoalR-7"
      },
      "source": [
        "### Task 1: Dataset Loading\n",
        "\n",
        "\n",
        "Load the dataset from files and provide the input matrix $\\mathbf X \\in \\mathbb R^{(D+1)\\times N}$ and the output matrix $\\mathbf T \\in \\mathbb R^{O\\times N}$.\n",
        "\n",
        "Due to the difficulty of the task, most of the implementation is provided.\n",
        "The implementation is very literal and, therefore, hopefully readable, while maybe not the most efficient.\n",
        "\n",
        "We skip categorical inputs (indexes 8-11) for now.\n",
        "All other entries are converted either into binary $(-1,1)$ or into an integer range $(0,1,\\ldots)$.\n",
        "The three outputs range between 0 and 20 each. The bias value for $x_0=1$ is also already included.\n",
        "You just need to make sure that the data $(X,T)$ is returned in the desired format."
      ]
    },
    {
      "cell_type": "code",
      "execution_count": 105,
      "metadata": {
        "id": "wE3DlW-e_Dr1"
      },
      "outputs": [],
      "source": [
        "import math\n",
        "import numpy as np\n",
        "import os\n",
        "\n",
        "# Dataset origin: https://archive.ics.uci.edu/ml/datasets/Student+Performance\n",
        "\n",
        "def dataset(course=\"por\"):\n",
        "  # load dataset and provide input and target data\n",
        "  # possible data files are \"mat\" and \"por\"\n",
        "\n",
        "  # download data file from URL\n",
        "  dataset_zip_file = \"student.zip\"\n",
        "  if not os.path.exists(dataset_zip_file):\n",
        "    import urllib.request\n",
        "    urllib.request.urlretrieve(\"https://archive.ics.uci.edu/ml/machine-learning-databases/00320/student.zip\", dataset_zip_file)\n",
        "    print (\"Downloaded datafile\", dataset_zip_file)\n",
        "\n",
        "  import zipfile\n",
        "  import csv\n",
        "  import io\n",
        "\n",
        "  # collect inputs\n",
        "  inputs = []\n",
        "  targets = []\n",
        "  # some default values: yes=1, no=-1\n",
        "  yn = {\"yes\":1.,\"no\":-1.}\n",
        "  # read through dataset (without actually unzippiung to a file):\n",
        "  # ... open zip file\n",
        "  zip = zipfile.ZipFile(dataset_zip_file)\n",
        "  # ... open data file inside of zip file and convert bytes to text\n",
        "  datafile = io.TextIOWrapper(zip.open(os.path.join(F\"student-{course}.csv\"), 'r'))\n",
        "  # ... read through the lines via CSV reader, using the correct delimited\n",
        "  reader = csv.reader(datafile, delimiter=\";\")\n",
        "  # ... skip header line\n",
        "  next(reader)\n",
        "  for splits in reader:\n",
        "    # read input values\n",
        "    inputs.append([\n",
        "      1.,                             #### BIAS ####\n",
        "      {\"GP\":1.,\"MS\":-1.}[splits[0]],  # school\n",
        "      {\"M\":1.,\"F\":-1.}[splits[1]],    # gender\n",
        "      float(splits[2]),               # age\n",
        "      {\"U\":1.,\"R\":-1.}[splits[3]],    # address\n",
        "      {\"LE3\":1.,\"GT3\":-1.}[splits[4]],# family size\n",
        "      {\"T\":1.,\"A\":-1.}[splits[5]],    # parents living together\n",
        "      float(splits[6]),               # mother education\n",
        "      float(splits[7]),               # father education\n",
        "      # skip categorical values\n",
        "      float(splits[12]),              # travel time\n",
        "      float(splits[13]),              # study time\n",
        "      float(splits[14]),              # failures\n",
        "      yn[splits[15]],                 # extra support\n",
        "      yn[splits[16]],                 # family support\n",
        "      yn[splits[17]],                 # paid support\n",
        "      yn[splits[18]],                 # activities\n",
        "      yn[splits[19]],                 # nursery school\n",
        "      yn[splits[20]],                 # higher education\n",
        "      yn[splits[21]],                 # internet\n",
        "      yn[splits[22]],                 # romantic\n",
        "      float(splits[23]),              # family relation\n",
        "      float(splits[24]),              # free time\n",
        "      float(splits[25]),              # going out\n",
        "      float(splits[26]),              # workday alcohol\n",
        "      float(splits[27]),              # weekend alcohol\n",
        "      float(splits[28]),              # health\n",
        "      float(splits[29]),              # absences\n",
        "    ])\n",
        "\n",
        "    # read targets values\n",
        "    targets.append([\n",
        "      float(splits[30]),              # grade for primary school\n",
        "      float(splits[31]),              # grade for secondary school\n",
        "      float(splits[32]),              # grade for tertiary school\n",
        "    ])\n",
        "\n",
        "  print(F\"Loaded dataset with {len(targets)} samples\")\n",
        "  return np.array(inputs).T, np.array(targets).T"
      ]
    },
    {
      "attachments": {},
      "cell_type": "markdown",
      "metadata": {
        "id": "FWNwt2Rb_Dr3"
      },
      "source": [
        "### Test 1: Assert Valid Outputs\n",
        "\n",
        "This test will check the dimension of the loaded dataset, i.e. $\\mathbf X\\in \\mathbb R^{(D+1)\\times N}$ and $\\mathbf T \\in \\mathbb R^{O\\times N}$, and also assure that all target data is in the range $t\\in[0,20]$.\n",
        "\n",
        "Please make sure that your implementation can pass these tests before moving to the next task"
      ]
    },
    {
      "cell_type": "code",
      "execution_count": 106,
      "metadata": {
        "colab": {
          "base_uri": "https://localhost:8080/"
        },
        "id": "jaCpzc-l_Dr3",
        "outputId": "6fefb52a-492d-489a-aec3-156623dd939c"
      },
      "outputs": [
        {
          "name": "stdout",
          "output_type": "stream",
          "text": [
            "Loaded dataset with 649 samples\n"
          ]
        }
      ],
      "source": [
        "X, T = dataset(\"por\")\n",
        "\n",
        "assert np.all(T >= 0) and np.all(T <= 20)\n",
        "\n",
        "assert X.shape[0] == 27\n",
        "assert T.shape[0] == 3\n",
        "assert T.shape[1] == X.shape[1]"
      ]
    },
    {
      "attachments": {},
      "cell_type": "markdown",
      "metadata": {
        "id": "dfk_P5eG_Dr3"
      },
      "source": [
        "### Task 2: Input Data Standardization\n",
        "\n",
        "Since the data is in different input regimes, we want to standardize the data.\n",
        "For this purpose, we need to compute the mean and the standard deviation of the data for each input dimension.\n",
        "Then, we implement a function to perform the standardization of the data using the previously computed mean and standard deviation. Make sure that you handle the bias neuron $x_0$ correctly.\n",
        "\n",
        "Please note that `numpy` has all the functionality that you need."
      ]
    },
    {
      "cell_type": "code",
      "execution_count": 107,
      "metadata": {
        "id": "0bUpUAHR_Dr3"
      },
      "outputs": [],
      "source": [
        "# compute mean and standard deviation over dataset\n",
        "mean = np.mean(X, axis=1) #\n",
        "std = np.std(X, axis=1)\n",
        "# assure to handle x_0 correctly\n",
        "std[0] = 1\n",
        "assert np.all(X[0]) == 1\n",
        "\n",
        "def standardize(x, mean, std):\n",
        "  # standardize the given data with the given mean and standard deviation\n",
        "  return ((x.T-mean) / std).T\n",
        "\n",
        "# standardize our dataset\n",
        "# X: (D+1, N) = (26+1, 649)\n",
        "X = standardize(X, mean, std)"
      ]
    },
    {
      "attachments": {},
      "cell_type": "markdown",
      "metadata": {
        "id": "6MZ_MPc-_Dr4"
      },
      "source": [
        "### Task 3: Batch Processing\n",
        "\n",
        "In order to run stochastic gradient descent, we need to split our dataset into batches of a certain batch size $B$. Implement a function that turns the dataset $(X,T)$ into batches of a certain batch size $B$.\n",
        "Implement this function as a generator function, i.e., use ``yield`` instead of ``return``.\n",
        "Circulate the dataset afresh when all data is consumed, and shuffle the data in each epoch.\n",
        "Make sure that you yield both the input batch and the target batch."
      ]
    },
    {
      "cell_type": "code",
      "execution_count": 108,
      "metadata": {
        "id": "GoDHo80J_Dr4"
      },
      "outputs": [],
      "source": [
        "'''\n",
        "  X: (D+1, N) = (26+1, 649) / T: (O, N) = (3, 649)\n",
        "  B: batch_size = 16\n",
        "  n: N // B + 1\n",
        "'''\n",
        "rng = np.random.default_rng()\n",
        "\n",
        "def batch(X, T, batch_size=16):\n",
        "  N = X.shape[1]\n",
        "  B = batch_size\n",
        "  iter = 0\n",
        "  while iter <= (N//B):\n",
        "    # shuffle dataset in each epoch\n",
        "    rng.shuffle(X)\n",
        "    rng.shuffle(T)\n",
        "    # yield the batch\n",
        "    yield X[:, iter*B:(iter+1)*B], T[:, iter*B:(iter+1)*B]\n",
        "    iter += B"
      ]
    },
    {
      "attachments": {},
      "cell_type": "markdown",
      "metadata": {
        "id": "NgBsBOsa_Dr4"
      },
      "source": [
        "### Test 2: Test your Batches\n",
        "\n",
        "This test is to assure that your batch generation function works as expected. \n",
        "We define some test data for this purpose.\n",
        "The code below checks whether your batch function returns batches with correct content, i.e., $(\\vec x, \\vec t)$-alignment. \n",
        "It also checks that the batches are in the correct dimensions, i.e., that $\\mathbf X \\in \\mathbb R^{(D+1)\\times B}$ and $\\mathbf T \\in \\mathbb R^{O\\times B}$.\n",
        "\n",
        "Make sure you can pass this test before moving forward."
      ]
    },
    {
      "cell_type": "code",
      "execution_count": 109,
      "metadata": {
        "id": "fFndxbf1_CmR"
      },
      "outputs": [],
      "source": [
        "XX = np.array([[i] * 5 for i in range(50)]).T\n",
        "TT = np.array([[i] for i in range(10,60)]).T\n",
        "\n",
        "for counter, (x,t) in enumerate(batch(XX, TT, 16)):\n",
        "  assert x.shape[0] == 5\n",
        "  assert x.shape[1] == 16\n",
        "  assert t.shape[0] == 1\n",
        "  assert t.shape[1] == 16\n",
        "  assert np.all(x == t-10)\n",
        "  if counter == 20: break"
      ]
    },
    {
      "attachments": {},
      "cell_type": "markdown",
      "metadata": {
        "id": "0B8o_mE1l6mp"
      },
      "source": [
        "## Gradient Descent\n",
        "\n",
        "To train a two-layer multi-output regression network, we need to implement some functions.\n",
        "The network output is computed in three steps:\n",
        "\n",
        "  * Compute network activation for a batch of inputs $\\mathbf X$: $\\mathbf A = \\mathbf W^{(1)}\\mathbf X$\n",
        "  * Call the activation function element-wise: $\\mathbf H = g(\\mathbf A)$. Here, we rely on the logistic activation function $\\sigma$. Assure that the hidden neuron bias $\\mathbf H_{0,:}$ is set appropriately.\n",
        "  * Compute the output $\\mathbf Y$ of the batch: $\\mathbf Y = \\mathbf W^{(2)}\\mathbf H$."
      ]
    },
    {
      "attachments": {},
      "cell_type": "markdown",
      "metadata": {
        "id": "0pGCwC0L_Dr4"
      },
      "source": [
        "### Task 4: Multi-Output Network\n",
        "\n",
        "Implement a multi-target network that computes the output matrix $\\mathbf Y$ for a given input dataset/batch $\\mathbf X$ and given parameters $\\Theta=(\\mathbf W^{(1)}, \\mathbf W^{(2)})$ using `numpy` operations. \n",
        "The function should return both the output $\\mathbf Y$ and the output of the hidden units $\\mathbf H$ since we will need these in gradient descent. Select the logistic function $\\sigma$ as the activation function."
      ]
    },
    {
      "cell_type": "code",
      "execution_count": 110,
      "metadata": {
        "id": "j1gErN4z_Dr4"
      },
      "outputs": [],
      "source": [
        "def logistic(x):\n",
        "  return 1 / (1 + np.exp(-x))\n",
        "\n",
        "def network(X, Theta):\n",
        "  '''\n",
        "  X: (D+1, N) = (26+1, 649) / T: (O, N) = (3, 649)\n",
        "  W1 = (K+1, D+1) / W2 = (O, K+1)\n",
        "  X = (D+1, N) / A = (K, N)\n",
        "  H = (K+1, N) / Y = (O, N)\n",
        "  '''\n",
        "  W1, W2 = Theta\n",
        "\n",
        "  # compute activation\n",
        "  A = np.dot(W1, X) # W1 = (K+1, D+1) / X = (D+1, N) -> A = (K+1, N)\n",
        "  # compute hidden unit output\n",
        "  H = logistic(A) # H = (K+1, N)\n",
        "  # compute network output\n",
        "  Y = np.dot(W2, H) # H = (K+1, N)  -> Y = (O, N)\n",
        "\n",
        "  return Y, H"
      ]
    },
    {
      "attachments": {},
      "cell_type": "markdown",
      "metadata": {
        "id": "Zt0CMab4_Dr5"
      },
      "source": [
        "### Task 5: Loss Implementation\n",
        "\n",
        "Implement a loss function that returns the squared loss $\\mathcal J^{L_2} = \\frac1B \\|\\mathbf Y - \\mathbf T\\|_F^2$ for given network outputs $\\mathbf Y$ and target values $\\mathbf T$.\n",
        "Use `numpy` or `scipy` functionality for this task."
      ]
    },
    {
      "cell_type": "code",
      "execution_count": 111,
      "metadata": {
        "id": "RSwKiqIc_Dr5"
      },
      "outputs": [],
      "source": [
        "def loss(Y, T):\n",
        "  N = Y.shape[1] # Y = (O, N) / T = (O, N)\n",
        "  return (np.linalg.norm(Y-T, ord='fro'))**2/N"
      ]
    },
    {
      "attachments": {},
      "cell_type": "markdown",
      "metadata": {
        "id": "fD2srCKN_Dr5"
      },
      "source": [
        "### Task 6: Gradient Implementation\n",
        "\n",
        "Implement a function that computes and returns the gradient for a given batch $(\\mathbf X, \\mathbf T)$, the given network outputs $\\mathbf Y$ and $\\mathbf H$ as well as current parameters $\\Theta=(\\mathbf W^{(1)}, \\mathbf W^{(2)})$.\n",
        "Make sure to compute the gradient with respect to both weight matrices. Remember that we have used $\\sigma$ as the activation function.\n",
        "Implement the function using the fast version provided in the lecture and make use of `numpy` operations."
      ]
    },
    {
      "cell_type": "code",
      "execution_count": 112,
      "metadata": {
        "id": "Qe8QYVnP_Dr5"
      },
      "outputs": [],
      "source": [
        "def gradient(X, T, Y, H, Theta):\n",
        "  '''\n",
        "  W1 = (K, D+1) / W2 = (O, K+1)\n",
        "  X = (D+1, N) / A = (K, N)\n",
        "  H = (K+1, N) / Y = (O, N)\n",
        "  '''\n",
        "  W1, W2 = Theta\n",
        "  N = Y.shape[1]\n",
        "  # first layer gradient / W2.T*(Y-T): (K+1, N) / X.T = (N, D+1)\n",
        "  g1 = 2 * np.dot((np.dot(W2.T, (Y-T))* H * (1-H)), X.T) / N # (K+1, D+1)\n",
        "  # second layer gradient\n",
        "  g2 = 2 * (np.dot((Y-T), H.T)) / N # (O, N) * (N, K+1) -> (O, K+1)\n",
        "\n",
        "  return g1, g2"
      ]
    },
    {
      "attachments": {},
      "cell_type": "markdown",
      "metadata": {
        "id": "CpeCOHbE_Dr5"
      },
      "source": [
        "### Task 7: Iterative Gradient Descent\n",
        "\n",
        "\n",
        "Implement gradient descent for a given number of 10'000 epochs (**not batches!**) using given initial parameters $\\Theta$ and a given batch size $B$, as well as a learning rate of $\\eta=0.001$.\n",
        "\n",
        "Make use of the standardized dataset from Task 2, split into batches with the function from Task 3, the network from Task 4, the loss from Task 5, and the gradient from Task 6.\n",
        "\n",
        "Make sure that the network output $\\mathbf Y$ and the hidden unit output $\\mathbf H$ are computed only once for each batch. After applying gradient descent, add an option to use momentum learning with the given parameter `mu`.\n",
        "At the end of each epoch, compute and store the loss values for each batch in a list, and this list will be returned at the end.\n",
        "\n",
        "How many iterations do we need when $B < N$? How can you know whether your current batch is the last one of the current epoch?"
      ]
    },
    {
      "cell_type": "code",
      "execution_count": 113,
      "metadata": {
        "id": "QnuFqkg-82l2"
      },
      "outputs": [],
      "source": [
        "def gradient_descent(X, T, Theta, B, eta=0.001, mu=None):\n",
        "  '''step_size = eta, momentum = mu'''\n",
        "  W1, W2 = Theta\n",
        "  loss_values = []\n",
        "\n",
        "  N = X.shape[1]\n",
        "  batch_count = 0\n",
        "  epoch = 0\n",
        "  max_epochs = 10000\n",
        "  max_batches = int(np.ceil(N/B))\n",
        "\n",
        "  # generate an initial point (W1, W2 = Theta)\n",
        "  # (starting w/ a randomly selected point in the search space)\n",
        "  V_theta = np.zeros_like(W1)\n",
        "  V_b = np.zeros_like(B)\n",
        "\n",
        "  # iterate over batches\n",
        "  for (x,t) in batch(X, T, B):\n",
        "    # compute network output\n",
        "    y, h = network(x, Theta)\n",
        "    # compute and append loss\n",
        "    loss_values.append(loss(y,t))\n",
        "\n",
        "    # compute gradient\n",
        "    g1, g2 = gradient(x, t, y, h, Theta)\n",
        "    # and apply gradient descent\n",
        "    W1 -= eta * g1\n",
        "    W2 -= eta * g2\n",
        "    \n",
        "    # apply momentum learning if asked\n",
        "    if mu != None:\n",
        "      # calculate update\n",
        "      # new_change = step_size * gradient + momentum * change\n",
        "      V_theta = -eta*g1 + mu*V_theta \n",
        "      V_b = -eta*g2 + mu*V_b\n",
        "      # take a step\n",
        "      W1 += V_theta\n",
        "      W2 += V_b\n",
        "    \n",
        "    #termination\n",
        "    batch_count += 1\n",
        "    if batch_count > max_batches:\n",
        "      epoch += 1\n",
        "      loss_values.append(loss(y, t))\n",
        "      if (epoch >= max_epochs): break\n",
        "\n",
        "  # return the obtained loss values at the end\n",
        "  return loss_values"
      ]
    },
    {
      "attachments": {},
      "cell_type": "markdown",
      "metadata": {
        "id": "NIvoljpW_Dr5"
      },
      "source": [
        "### Task 8: Run Gradient Descent\n",
        "\n",
        "Select an appropriate number of hidden neurons $K$.\n",
        "Instantiate the weight matrices $\\Theta=(\\mathbf W^{(1)}, \\mathbf W^{(2)})$ using the Xavier method as introduced in the lecture.\n",
        "\n",
        "Run the gradient descent three times, first as normal gradient descent, second as stochastic gradient descent with batch size $B=16$, and third with the same setup as the second but with momentum learning involved, select $\\mu =0.9$.\n",
        "\n",
        "How can you achieve this without requiring separate implementations of the ``gradient_descent`` function from Task 7?"
      ]
    },
    {
      "cell_type": "code",
      "execution_count": 114,
      "metadata": {
        "id": "r4BnX1m8_Dr6"
      },
      "outputs": [],
      "source": [
        "K = 20\n",
        "D = len(X) # X = (D+1, N)\n",
        "O = 3 # T.shape[0] # Y.shape[0] or W2.shape[0]\n",
        "\n",
        "# W1 = np.random.uniform(-1/np.sqrt(D), 1/np.sqrt(D), (K,D))\n",
        "# W2 = np.random.uniform(-1/np.sqrt(K), 1/np.sqrt(K), (O,K))\n",
        "W1 = rng.uniform(-1/np.sqrt(D), 1/np.sqrt(D), (K, D))\n",
        "W2 = rng.uniform(-1/np.sqrt(K), 1/np.sqrt(K), (O, K))\n",
        "Theta = [W1, W2]\n",
        "\n",
        "import copy\n",
        "\n",
        "# run gradient descent with full dataset\n",
        "Theta1 = copy.deepcopy(Theta)\n",
        "GD = gradient_descent(X, T, Theta1, B=len(T[0]))\n",
        "\n",
        "# run stochastic gradient descent with batches of size 16\n",
        "Theta2 = copy.deepcopy(Theta)\n",
        "SGD = gradient_descent(X, T, Theta2, B=16)\n",
        "\n",
        "# run stochastic gradient descent with batches of size 16 and momentum mu=0.9\n",
        "Theta3 = copy.deepcopy(Theta)\n",
        "SGD_Mo = gradient_descent(X, T, Theta3, B=16, mu=0.9)"
      ]
    },
    {
      "attachments": {},
      "cell_type": "markdown",
      "metadata": {
        "id": "Mi5Wt88CnsNB"
      },
      "source": [
        "## Evaluation\n",
        "\n",
        "Finally, we want to evaluate how the learning process went and what the network has actually learned.\n",
        "For the former, we will plot the loss values obtained during training.\n",
        "For the latter, we define one specific sample of our own, and we evaluate the impact of several factors on the performance."
      ]
    },
    {
      "attachments": {},
      "cell_type": "markdown",
      "metadata": {
        "id": "t1CGUw7k_Dr6"
      },
      "source": [
        "### Task 9: Plotting Loss Progression\n",
        "\n",
        "To show the learning process of the networks, plot the loss values of the three gradient descent steps from Task 8 together into one plot.\n",
        "Do we need to take care of something when plotting both together?\n",
        "\n",
        "Use logarithmic axes wherever you see fit.\n",
        "An exemplary loss progression plot can be found in the slides.\n",
        "\n"
      ]
    },
    {
      "cell_type": "code",
      "execution_count": 116,
      "metadata": {
        "id": "wMFMvuRg_Dr6"
      },
      "outputs": [
        {
          "data": {
            "text/plain": [
              "<matplotlib.legend.Legend at 0x2d1cacb2650>"
            ]
          },
          "execution_count": 116,
          "metadata": {},
          "output_type": "execute_result"
        },
        {
          "data": {
            "image/png": "[encoded data removed]",
            "text/plain": [
              "<Figure size 640x480 with 1 Axes>"
            ]
          },
          "metadata": {},
          "output_type": "display_data"
        }
      ],
      "source": [
        "from matplotlib import pyplot\n",
        "\n",
        "pyplot.plot(SGD, \"b-\", label=\"Stochastic Gradient Descent\")\n",
        "pyplot.plot(SGD_Mo, \"r-\", label=\"Stochastic Gradient Descent with Momentum\")\n",
        "pyplot.plot(GD, \"g-\", label=\"Gradient Descent\")\n",
        "pyplot.legend()"
      ]
    },
    {
      "attachments": {},
      "cell_type": "markdown",
      "metadata": {
        "id": "sDJp99mK_Dr6"
      },
      "source": [
        "### Task 10: Example Evaluation (optional)\n",
        "\n",
        "We want to see what the network has learned.\n",
        "Therefore, we evaluate some data points that would represent a typical Swiss student (except for the school entry, where we select one of them randomly).\n",
        "You can select a specific example, but you can also imagine a student.\n",
        "Please refer to https://archive.ics.uci.edu/ml/datasets/Student+Performance on possible values and the implementation in Tasks 1 and 2 on how to generate an input sample $\\vec x$ for our network. Also, remember that input data need to be standardized before feeding it to the network. \n",
        "\n",
        "Compute the scores that your student would likely get by asking the network, using the parameters $\\Theta$ optimized with stochastic gradient descent.\n",
        "\n"
      ]
    },
    {
      "cell_type": "code",
      "execution_count": 117,
      "metadata": {
        "id": "9RPCifeO_Dr6"
      },
      "outputs": [
        {
          "name": "stdout",
          "output_type": "stream",
          "text": [
            "Prediction :\t [[1.62796794]\n",
            " [1.05380418]\n",
            " [1.74619506]]\n"
          ]
        }
      ],
      "source": [
        "# select a specific example\n",
        "example = np.array([[\n",
        "  1.,    # BIAS\n",
        "  1,   # school (select -1 or 1)\n",
        "  1,   # gender\n",
        "  17,   # age\n",
        "  1,   # adress\n",
        "  1,   # family size\n",
        "  1,   # parents living together\n",
        "  1,   # mother education\n",
        "  1,   # father education\n",
        "  1,   # travel time\n",
        "  7,   # study time\n",
        "  0,   # class failure before\n",
        "\n",
        "  1,   # support from school\n",
        "  1,   # support from the family\n",
        "  1,   # paid extra support \n",
        "  1,   # out-of-school activities\n",
        "  1,   # nursery school\n",
        "  -1,   # want to do higher ed\n",
        "  1,   # internet access\n",
        "  1,   # romantic relation\n",
        "\n",
        "  1,   # relation to family\n",
        "  6,   # amount of free time\n",
        "  -1,   # go out with peers\n",
        "  0,   # alcoholic drinks during the week\n",
        "  0,   # alcoholic drinks in the weekend\n",
        "  1,   # health status\n",
        "  0    # days of absence\n",
        "]]).T\n",
        "\n",
        "# compute network output\n",
        "example = standardize(example, mean, std)\n",
        "prediction, _ = network(example, Theta3)\n",
        "print(\"Prediction :\\t\", prediction)"
      ]
    },
    {
      "attachments": {},
      "cell_type": "markdown",
      "metadata": {
        "id": "9lB1b-8V_Dr6"
      },
      "source": [
        "### Task 11: Influence of Data Dimensions (optional)\n",
        "\n",
        "\n",
        "For some dimensions in the input feature $\\vec x$, we want to test how different input values for this dimension would influence the outcome.\n",
        "Particularly, we test:\n",
        "\n",
        "  * Gender at index $d=2$: change between male ($1$) and female ($-1$)\n",
        "  * Weekly study time at index $d=10$: vary in the range $[1,4]$ \n",
        "  * Past Failures at index $d=11$: vary in range $[0,3]$ \n",
        "  * Additional classes at index $d=14$: change between yes ($1$) and no ($-1$)\n",
        "  * Romantic relations at index $d=19$: change between yes ($1$) and no ($-1$)\n",
        "  * Weekday alcohol consumption at index $d=23$: varies in the range $[1,6]$.\n",
        "\n",
        "Note that the indexes include the fact that we are omitting some input dimensions, so they might differ from what is listed on the webpage.\n",
        "\n",
        "Did you expect this output?\n",
        "\n"
      ]
    },
    {
      "cell_type": "code",
      "execution_count": 118,
      "metadata": {
        "id": "buTufJpd_Dr6"
      },
      "outputs": [
        {
          "name": "stdout",
          "output_type": "stream",
          "text": [
            "For index: 2, value -0.5435553304269193, the predicted output is [[0.86275588]\n",
            " [0.13535212]\n",
            " [0.65383152]]\n",
            "For index: 2, value 0.53855328750888, the predicted output is [[0.76900503]\n",
            " [0.31471867]\n",
            " [0.70565138]]\n",
            "For index: 2, value 1.6206619054446794, the predicted output is [[0.70241991]\n",
            " [0.46415333]\n",
            " [0.72833175]]\n",
            "For index: 2, value 2.702770523380478, the predicted output is [[0.6653414 ]\n",
            " [0.56053343]\n",
            " [0.71529503]]\n",
            "For index: 2, value 3.7848791413162775, the predicted output is [[0.64036773]\n",
            " [0.62011055]\n",
            " [0.69043629]]\n",
            "For index: 10, value -3.068819884127645, the predicted output is [[0.92055054]\n",
            " [0.17678797]\n",
            " [0.84671914]]\n",
            "For index: 10, value -2.021677873192397, the predicted output is [[0.84806693]\n",
            " [0.25239589]\n",
            " [0.80489259]]\n",
            "For index: 10, value -0.9745358622571492, the predicted output is [[0.77638829]\n",
            " [0.33889491]\n",
            " [0.77290775]]\n",
            "For index: 10, value 0.0726061486780987, the predicted output is [[0.72051463]\n",
            " [0.42749254]\n",
            " [0.76350662]]\n",
            "For index: 10, value 1.1197481596133465, the predicted output is [[0.68638039]\n",
            " [0.50017562]\n",
            " [0.76840408]]\n",
            "For index: 11, value -2.2181243905954315, the predicted output is [[0.89680733]\n",
            " [0.27392264]\n",
            " [0.77517399]]\n",
            "For index: 11, value -1.3360393847765375, the predicted output is [[0.83037546]\n",
            " [0.33914156]\n",
            " [0.76168495]]\n",
            "For index: 11, value -0.4539543789576435, the predicted output is [[0.76940379]\n",
            " [0.40441108]\n",
            " [0.75859979]]\n",
            "For index: 11, value 0.4281306268612504, the predicted output is [[0.71864309]\n",
            " [0.46246381]\n",
            " [0.76483508]]\n",
            "For index: 11, value 1.3102156326801444, the predicted output is [[0.67830952]\n",
            " [0.50960252]\n",
            " [0.76789589]]\n",
            "For index: 14, value -1.1228084801576794, the predicted output is [[0.81065046]\n",
            " [0.2955317 ]\n",
            " [0.79121912]]\n",
            "For index: 14, value 0.08365294968062191, the predicted output is [[0.74727015]\n",
            " [0.39649702]\n",
            " [0.77936895]]\n",
            "For index: 14, value 1.2901143795189232, the predicted output is [[0.67937371]\n",
            " [0.50795886]\n",
            " [0.76832208]]\n",
            "For index: 14, value 2.496575809357225, the predicted output is [[0.623038  ]\n",
            " [0.5866843 ]\n",
            " [0.72557968]]\n",
            "For index: 19, value -2.0986815371713434, the predicted output is [[0.49634098]\n",
            " [0.28503945]\n",
            " [0.91222405]]\n",
            "For index: 19, value -1.1888322936014024, the predicted output is [[0.51193244]\n",
            " [0.35387296]\n",
            " [0.88709523]]\n",
            "For index: 19, value -0.2789830500314613, the predicted output is [[0.53843429]\n",
            " [0.42544897]\n",
            " [0.8537855 ]]\n",
            "For index: 19, value 0.63086619353848, the predicted output is [[0.56920139]\n",
            " [0.49174468]\n",
            " [0.81405671]]\n",
            "For index: 19, value 1.540715437108421, the predicted output is [[0.59788942]\n",
            " [0.545789  ]\n",
            " [0.77083004]]\n",
            "For index: 23, value -1.8597109150959066, the predicted output is [[0.6272535 ]\n",
            " [0.44242898]\n",
            " [0.88945611]]\n",
            "For index: 23, value -1.0085456232078647, the predicted output is [[0.61597835]\n",
            " [0.47317651]\n",
            " [0.8627342 ]]\n",
            "For index: 23, value -0.15738033131982276, the predicted output is [[0.60778519]\n",
            " [0.50020088]\n",
            " [0.8321136 ]]\n",
            "For index: 23, value 0.6937849605682191, the predicted output is [[0.60204225]\n",
            " [0.5241649 ]\n",
            " [0.80044671]]\n",
            "For index: 23, value 1.544950252456261, the predicted output is [[0.59787139]\n",
            " [0.54589259]\n",
            " [0.77069083]]\n"
          ]
        }
      ],
      "source": [
        "# implement a way to modify the input at a given index with certain values\n",
        "# and to predict and print the network output for this modification\n",
        "def modify_prediction(x,theta,ind,val):\n",
        "  x[ind:,] = val\n",
        "  prediction, _ = network(x,theta)\n",
        "  return prediction\n",
        "\n",
        "# run this with the 4 modifications and their according to values as seen above\n",
        "for ind in [2,10,11,14,19,23]:\n",
        "  for val in np.unique(X[ind,:]):\n",
        "    print(\"For index: {}, value {}, the predicted output is {}\".format(ind,val,modify_prediction(example,Theta2,ind,val)))"
      ]
    },
    {
      "cell_type": "code",
      "execution_count": null,
      "metadata": {},
      "outputs": [],
      "source": []
    }
  ],
  "metadata": {
    "colab": {
      "provenance": []
    },
    "interpreter": {
      "hash": "2dd53f8ad749bca69f7250ce75eb4f0def59db5cf79075a9716322ffc58e8a2e"
    },
    "kernelspec": {
      "display_name": "Python 3.8.10 ('DL')",
      "language": "python",
      "name": "python3"
    },
    "language_info": {
      "codemirror_mode": {
        "name": "ipython",
        "version": 3
      },
      "file_extension": ".py",
      "mimetype": "text/x-python",
      "name": "python",
      "nbconvert_exporter": "python",
      "pygments_lexer": "ipython3",
      "version": "3.11.2"
    },
    "orig_nbformat": 4
  },
  "nbformat": 4,
  "nbformat_minor": 0
}
